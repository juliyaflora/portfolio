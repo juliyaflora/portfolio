{
 "cells": [
  {
   "cell_type": "markdown",
   "id": "1f003bdf-92a2-43a1-8226-f0dce0504b7b",
   "metadata": {},
   "source": [
    "### Задание 1"
   ]
  },
  {
   "cell_type": "markdown",
   "id": "0da6d609-45fe-43cb-aceb-cd6e38b98d28",
   "metadata": {},
   "source": [
    "3 × (2 5 0 6 8 10 6 7 5 7) · 2 × (8 6 7 9 6 6 2 3 2 3) = (6 15 0 18 24 30 18 21 15 21) · (16 12 14 18 12 12 4 6 4 6) = (96 180 0 324 288 360 72 126 60 126) \n",
    "\n",
    "6 × (9 6 7 7 0 1 6 8 1 2) · 5 × (0 2 2 6 7 8 8 3 1 8) = (54 36 42 42 0 6 36 48 6 12)·(0 10 10 30 35 40 40 15 5 40) = (0 360 420 1260 0 240 1440 720 30 480)\n",
    "\n",
    "(2 5 0 6 8 10 6 7 5 7) · (8 6 7 9 6 6 2 3 2 3) = (16 30 0 54 48 60 21 10 21)\n",
    "\n",
    "(9 6 7 7 0 1 6 8 1 2) · (0 2 2 6 7 8 8 3 1 8) = (0 12 14 42 0 8 54 24 1 16)\n",
    "\n"
   ]
  },
  {
   "cell_type": "code",
   "execution_count": 22,
   "id": "6f8022bf-ff86-4749-a3d0-fa17504d49d7",
   "metadata": {},
   "outputs": [],
   "source": [
    "a = np.array([2, 5, 0, 6, 8, 10, 6, 7, 5, 7])\n",
    "b = np.array([8, 6, 7, 9, 6, 6, 2, 3, 2, 3])"
   ]
  },
  {
   "cell_type": "code",
   "execution_count": 23,
   "id": "d65fe97e-6281-4e0c-86d0-f53dc79d9523",
   "metadata": {},
   "outputs": [
    {
     "data": {
      "text/plain": [
       "1632"
      ]
     },
     "execution_count": 23,
     "metadata": {},
     "output_type": "execute_result"
    }
   ],
   "source": [
    "(3*a)@(2*b)"
   ]
  },
  {
   "cell_type": "code",
   "execution_count": 24,
   "id": "4a81a709-7ce4-477a-899b-f98f2092a69a",
   "metadata": {
    "tags": []
   },
   "outputs": [],
   "source": [
    "a = np.array([9, 6, 7, 7, 0, 1, 6, 8, 1, 2])\n",
    "b = np.array([0, 2, 2, 6, 7, 8, 8, 3, 1, 8])"
   ]
  },
  {
   "cell_type": "code",
   "execution_count": 25,
   "id": "13813fbc-d8a1-499c-ac98-4413cda0827d",
   "metadata": {},
   "outputs": [
    {
     "data": {
      "text/plain": [
       "4950"
      ]
     },
     "execution_count": 25,
     "metadata": {},
     "output_type": "execute_result"
    }
   ],
   "source": [
    "(6*a)@(5*b)"
   ]
  },
  {
   "cell_type": "code",
   "execution_count": 26,
   "id": "ad36f42e-67f4-4cca-bede-01cf6bbc3858",
   "metadata": {},
   "outputs": [],
   "source": [
    "a = np.array([2, 5, 0, 6, 8, 10, 6, 7, 5, 7])\n",
    "b = np.array([8, 6, 7, 9, 6, 6, 2, 3, 2, 3])"
   ]
  },
  {
   "cell_type": "code",
   "execution_count": 27,
   "id": "25ee18a2-fab9-4cc7-8bb4-f8550b702303",
   "metadata": {},
   "outputs": [
    {
     "data": {
      "text/plain": [
       "272"
      ]
     },
     "execution_count": 27,
     "metadata": {},
     "output_type": "execute_result"
    }
   ],
   "source": [
    "a@b"
   ]
  },
  {
   "cell_type": "code",
   "execution_count": 28,
   "id": "7a9f5691-e7b6-4038-8e2d-2e7bebe51368",
   "metadata": {},
   "outputs": [],
   "source": [
    "a = np.array([9, 6, 7, 7, 0, 1, 6, 8, 1, 2])\n",
    "b = np.array([0, 2, 2, 6, 7, 8, 8, 3, 1, 8])"
   ]
  },
  {
   "cell_type": "code",
   "execution_count": 29,
   "id": "9f5d65de-6e5c-4fff-a571-7e9e2f9f15f5",
   "metadata": {},
   "outputs": [
    {
     "data": {
      "text/plain": [
       "165"
      ]
     },
     "execution_count": 29,
     "metadata": {},
     "output_type": "execute_result"
    }
   ],
   "source": [
    "a@b"
   ]
  },
  {
   "cell_type": "markdown",
   "id": "ec669e0c-a04b-468a-ba43-a2d09123c5b9",
   "metadata": {},
   "source": [
    "### Задание 2"
   ]
  },
  {
   "cell_type": "code",
   "execution_count": 1,
   "id": "850b50cb-7f5a-4826-b7ee-5cb7dfb77939",
   "metadata": {},
   "outputs": [],
   "source": [
    "import numpy as np\n"
   ]
  },
  {
   "cell_type": "code",
   "execution_count": 2,
   "id": "33b95bee-d28e-4589-8bfd-6522652e7b93",
   "metadata": {},
   "outputs": [],
   "source": [
    "list_arr_matrix1 = [[2,1,7,4],[5,6,7,3],[9,8,2,12],[11,14,15,15]]\n",
    "list_arr_matrix2 = [[3,7,8,3,6],[2,5,9,4,13]]"
   ]
  },
  {
   "cell_type": "code",
   "execution_count": 3,
   "id": "4ea6d451-8ebc-4a48-ab1b-ba7801ccf0c8",
   "metadata": {},
   "outputs": [],
   "source": [
    "def arr_transpose (list_arr):\n",
    "    arr_matrix = np.array(list_arr)\n",
    "    arr_transpose = arr_matrix.transpose()\n",
    "    return arr_transpose"
   ]
  },
  {
   "cell_type": "code",
   "execution_count": 4,
   "id": "9fe12351-8ac3-4445-a543-1d20fd86180e",
   "metadata": {},
   "outputs": [
    {
     "data": {
      "text/plain": [
       "array([[ 2,  5,  9, 11],\n",
       "       [ 1,  6,  8, 14],\n",
       "       [ 7,  7,  2, 15],\n",
       "       [ 4,  3, 12, 15]])"
      ]
     },
     "execution_count": 4,
     "metadata": {},
     "output_type": "execute_result"
    }
   ],
   "source": [
    "arr_transpose(list_arr_matrix1)"
   ]
  },
  {
   "cell_type": "code",
   "execution_count": 5,
   "id": "a6967b51-6d3f-4403-bc0e-98474fc30bad",
   "metadata": {},
   "outputs": [
    {
     "data": {
      "text/plain": [
       "array([[ 3,  2],\n",
       "       [ 7,  5],\n",
       "       [ 8,  9],\n",
       "       [ 3,  4],\n",
       "       [ 6, 13]])"
      ]
     },
     "execution_count": 5,
     "metadata": {},
     "output_type": "execute_result"
    }
   ],
   "source": [
    "arr_transpose(list_arr_matrix2)"
   ]
  },
  {
   "cell_type": "markdown",
   "id": "194fd5c8-a1b4-49c1-bddf-be2e5d1e2376",
   "metadata": {},
   "source": [
    "### Задание 3"
   ]
  },
  {
   "cell_type": "code",
   "execution_count": 7,
   "id": "12c1eaf1-46e0-4d4b-9d01-4e2f279bfe64",
   "metadata": {},
   "outputs": [],
   "source": [
    "from sympy import *\n",
    "from sympy.plotting import plot\n",
    "init_printing(use_unicode=False, wrap_line=False, no_global=True)"
   ]
  },
  {
   "cell_type": "code",
   "execution_count": 16,
   "id": "0f54cccb-7edf-4dac-b921-034f28d32be7",
   "metadata": {},
   "outputs": [],
   "source": [
    "import matplotlib.pyplot as plt\n",
    "import numpy as np\n",
    "from sympy.abc import x as a,y as b"
   ]
  },
  {
   "cell_type": "code",
   "execution_count": 9,
   "id": "44f6d82f-1536-499b-b4c6-7c4bab47f6ba",
   "metadata": {},
   "outputs": [],
   "source": [
    "a1, a2 = symbols('a1, a2')\n"
   ]
  },
  {
   "cell_type": "code",
   "execution_count": 10,
   "id": "d08fa3c6-74e1-4cf9-8fee-f16244a41e0b",
   "metadata": {},
   "outputs": [],
   "source": [
    "MSE = 1/4*((a1*1+a2*2-5)**2+\\\n",
    "           (a1*5+a2*3-6)**2+\\\n",
    "           (a1*2+a2*4-10)**2+\\\n",
    "           (a1*3+a2*7-8)**2)"
   ]
  },
  {
   "cell_type": "code",
   "execution_count": 11,
   "id": "c82fa6de-e814-48c7-a091-1d915978ba32",
   "metadata": {},
   "outputs": [
    {
     "name": "stderr",
     "output_type": "stream",
     "text": [
      "/opt/anaconda3/lib/python3.9/site-packages/IPython/lib/latextools.py:126: MatplotlibDeprecationWarning: \n",
      "The to_png function was deprecated in Matplotlib 3.4 and will be removed two minor releases later. Use mathtext.math_to_image instead.\n",
      "  mt.to_png(f, s, fontsize=12, dpi=dpi, color=color)\n",
      "/opt/anaconda3/lib/python3.9/site-packages/IPython/lib/latextools.py:126: MatplotlibDeprecationWarning: \n",
      "The to_rgba function was deprecated in Matplotlib 3.4 and will be removed two minor releases later. Use mathtext.math_to_image instead.\n",
      "  mt.to_png(f, s, fontsize=12, dpi=dpi, color=color)\n",
      "/opt/anaconda3/lib/python3.9/site-packages/IPython/lib/latextools.py:126: MatplotlibDeprecationWarning: \n",
      "The to_mask function was deprecated in Matplotlib 3.4 and will be removed two minor releases later. Use mathtext.math_to_image instead.\n",
      "  mt.to_png(f, s, fontsize=12, dpi=dpi, color=color)\n",
      "/opt/anaconda3/lib/python3.9/site-packages/IPython/lib/latextools.py:126: MatplotlibDeprecationWarning: \n",
      "The MathtextBackendBitmap class was deprecated in Matplotlib 3.4 and will be removed two minor releases later. Use mathtext.math_to_image instead.\n",
      "  mt.to_png(f, s, fontsize=12, dpi=dpi, color=color)\n"
     ]
    },
    {
     "data": {
      "image/png": "[encoded data removed]",
      "text/latex": [
       "$\\displaystyle 8.560825$"
      ],
      "text/plain": [
       "8.56082500000000"
      ]
     },
     "execution_count": 11,
     "metadata": {},
     "output_type": "execute_result"
    }
   ],
   "source": [
    "MSE.subs({a1:0.57, a2: 0.91})"
   ]
  },
  {
   "cell_type": "code",
   "execution_count": null,
   "id": "06984cd3-3329-446e-a639-612d8d065117",
   "metadata": {},
   "outputs": [],
   "source": []
  },
  {
   "cell_type": "markdown",
   "id": "7943560c-f204-4606-9f9d-4af5df631c45",
   "metadata": {},
   "source": [
    "@MSE(0.57, 0.91) = (19.5·0.57+23·0.91-39.5 23·0.57+39·0.91-62) = (11.115+20.93-39.5 13.11+35.49-62)=(-7.455 -13.4) => -@MSE = (7.455 13.4)\n",
    "(0.57 0.91)+0.01·(7.455 13.4) = (0.57 0.91)+(0.07455 0.134) = (0.64455 1.044)"
   ]
  },
  {
   "cell_type": "code",
   "execution_count": 12,
   "id": "2588f8ab-5eab-4fb5-95de-ae50362ee2a8",
   "metadata": {},
   "outputs": [
    {
     "data": {
      "image/png": "[encoded data removed]",
      "text/latex": [
       "$\\displaystyle 6.843547449375$"
      ],
      "text/plain": [
       "6.84354744937500"
      ]
     },
     "execution_count": 12,
     "metadata": {},
     "output_type": "execute_result"
    }
   ],
   "source": [
    "MSE.subs({a1:0.64455, a2: 1.044})"
   ]
  },
  {
   "cell_type": "markdown",
   "id": "e01f2147-5350-4c8c-9161-7f71be702e88",
   "metadata": {},
   "source": [
    "@MSE(0.64455, 1.044) = (19.5·0.64455+23·1.044-39.5 23·0.64455+39·1.044-62) = (12.568725+24.012-39.5 14.82465+40.76-62)=(-2.919275 -6.41535) => -@MSE = (2.919275 6.41535) (0.64455 1.044)+0.01·(2.919275 6.41535) = (0.64455 1.044)+(0.02919275 0.0641535) = (0.67374275 1.1081535)"
   ]
  },
  {
   "cell_type": "code",
   "execution_count": 13,
   "id": "adaf8ead-26f1-45a4-a69b-63abb04978ab",
   "metadata": {},
   "outputs": [
    {
     "data": {
      "image/png": "[encoded data removed]",
      "text/latex": [
       "$\\displaystyle 6.47557537472399$"
      ],
      "text/plain": [
       "6.47557537472399"
      ]
     },
     "execution_count": 13,
     "metadata": {},
     "output_type": "execute_result"
    }
   ],
   "source": [
    "MSE.subs({a1:0.67374275, a2:1.1081535})"
   ]
  },
  {
   "cell_type": "markdown",
   "id": "0d164721-baae-4167-bd51-2d44ca9693ea",
   "metadata": {},
   "source": [
    "@MSE(0.67374275, 1.1081535) = (19.5·0.67374275+23·1.1081535-39.5 23·0.67374275+39·1.1081535-62) = (13.1379836+25.4875305-39.5 15.4960832+43.2179865-62)=(-0.8744859 -3.2859303) => -@MSE = (0.8744859 3.2859303) (0.67374275 1.1081535)+0.01·(0.8744859 3.2859303) = (0.67374275 1.1081535)+(0.00874486 0.0328593) = (0.68248761 1.1410128)"
   ]
  },
  {
   "cell_type": "code",
   "execution_count": 15,
   "id": "36853113-6916-4168-a497-af922719ea45",
   "metadata": {},
   "outputs": [
    {
     "data": {
      "image/png": "[encoded data removed]",
      "text/latex": [
       "$\\displaystyle 6.38836421256151$"
      ],
      "text/plain": [
       "6.38836421256151"
      ]
     },
     "execution_count": 15,
     "metadata": {},
     "output_type": "execute_result"
    }
   ],
   "source": [
    "MSE.subs({a1:0.68248761, a2:1.1410128})"
   ]
  },
  {
   "cell_type": "markdown",
   "id": "c2f0d0e8-0720-475e-9421-ff233f8afb5a",
   "metadata": {},
   "source": [
    "5 шагов до спуска"
   ]
  },
  {
   "cell_type": "code",
   "execution_count": 30,
   "id": "19d50c1c-c424-4473-bc5a-835d6d814ce6",
   "metadata": {},
   "outputs": [
    {
     "data": {
      "image/png": "[encoded data removed]",
      "text/latex": [
       "$\\displaystyle 19.5 a_{1} + 23.0 a_{2} - 39.5$"
      ],
      "text/plain": [
       "19.5*a1 + 23.0*a2 - 39.5"
      ]
     },
     "execution_count": 30,
     "metadata": {},
     "output_type": "execute_result"
    }
   ],
   "source": [
    "MSE_diffa1 = diff(MSE, a1)\n",
    "MSE_diffa1"
   ]
  },
  {
   "cell_type": "code",
   "execution_count": 31,
   "id": "da5d969b-e2b4-4f97-b60c-f906e99e8824",
   "metadata": {},
   "outputs": [
    {
     "data": {
      "image/png": "[encoded data removed]",
      "text/latex": [
       "$\\displaystyle 23.0 a_{1} + 39.0 a_{2} - 62.0$"
      ],
      "text/plain": [
       "23.0*a1 + 39.0*a2 - 62.0"
      ]
     },
     "execution_count": 31,
     "metadata": {},
     "output_type": "execute_result"
    }
   ],
   "source": [
    "MSE_diffa2 = diff(MSE, a2)\n",
    "MSE_diffa2"
   ]
  },
  {
   "cell_type": "code",
   "execution_count": 32,
   "id": "911d6bb2-dcbd-41c1-bf7a-8c0572ef6be0",
   "metadata": {},
   "outputs": [],
   "source": [
    "alpha = 0.01"
   ]
  },
  {
   "cell_type": "code",
   "execution_count": 35,
   "id": "9db9cc47-2c70-469d-98b7-8a576f49e90c",
   "metadata": {},
   "outputs": [],
   "source": [
    "import numpy"
   ]
  },
  {
   "cell_type": "code",
   "execution_count": 36,
   "id": "edbb6fb8-9160-4162-8bb6-e226cb93d7a2",
   "metadata": {
    "tags": []
   },
   "outputs": [
    {
     "data": {
      "text/plain": [
       "array([-1,  2])"
      ]
     },
     "execution_count": 36,
     "metadata": {},
     "output_type": "execute_result"
    }
   ],
   "source": [
    "numpy.array([1, 3]) - numpy.array([2, 1])"
   ]
  },
  {
   "cell_type": "code",
   "execution_count": 40,
   "id": "eadf7c01-5c41-4097-b9c0-4ecc61ebc42b",
   "metadata": {},
   "outputs": [],
   "source": [
    "point = numpy.array([0.57, 0.91])"
   ]
  },
  {
   "cell_type": "code",
   "execution_count": 42,
   "id": "99e967bf-9ae4-4d80-9a77-7232c0c14fd6",
   "metadata": {},
   "outputs": [
    {
     "data": {
      "text/plain": [
       "array([-7.45500000000000, -13.4000000000000], dtype=object)"
      ]
     },
     "execution_count": 42,
     "metadata": {},
     "output_type": "execute_result"
    }
   ],
   "source": [
    "gradient = numpy.array([MSE_diffa1.subs({a1: point[0], a2: point[1]}), \n",
    "                    MSE_diffa2.subs({a1: point[0], a2: point[1]})])\n",
    "gradient"
   ]
  },
  {
   "cell_type": "code",
   "execution_count": 45,
   "id": "4bb72acf-ad1d-4b8f-9b6b-52ea1dd7b4c0",
   "metadata": {},
   "outputs": [
    {
     "data": {
      "text/plain": [
       "array([0.644550000000000, 1.04400000000000], dtype=object)"
      ]
     },
     "execution_count": 45,
     "metadata": {},
     "output_type": "execute_result"
    }
   ],
   "source": [
    "next_point = point - alpha * gradient\n",
    "next_point"
   ]
  },
  {
   "cell_type": "code",
   "execution_count": 46,
   "id": "cca501f5-325d-4caf-bd88-cce4b801ae3c",
   "metadata": {},
   "outputs": [
    {
     "data": {
      "image/png": "[encoded data removed]",
      "text/latex": [
       "$\\displaystyle 6.843547449375$"
      ],
      "text/plain": [
       "6.84354744937500"
      ]
     },
     "execution_count": 46,
     "metadata": {},
     "output_type": "execute_result"
    }
   ],
   "source": [
    "MSE.subs({a1: next_point[0], a2: next_point[1]})"
   ]
  },
  {
   "cell_type": "code",
   "execution_count": 47,
   "id": "36d966cd-bedb-43b3-a871-1329e198c734",
   "metadata": {},
   "outputs": [],
   "source": [
    "point = numpy.array([0.644550000000000, 1.04400000000000])"
   ]
  },
  {
   "cell_type": "code",
   "execution_count": 48,
   "id": "3a4cc922-1b00-4f29-827a-20fa34a888e9",
   "metadata": {},
   "outputs": [
    {
     "data": {
      "text/plain": [
       "array([-2.91927500000000, -6.45935000000000], dtype=object)"
      ]
     },
     "execution_count": 48,
     "metadata": {},
     "output_type": "execute_result"
    }
   ],
   "source": [
    "gradient = numpy.array([MSE_diffa1.subs({a1: point[0], a2: point[1]}), \n",
    "                    MSE_diffa2.subs({a1: point[0], a2: point[1]})])\n",
    "gradient"
   ]
  },
  {
   "cell_type": "code",
   "execution_count": 49,
   "id": "8842a4bd-24e1-4ae0-b845-f53c35c704d4",
   "metadata": {},
   "outputs": [
    {
     "data": {
      "text/plain": [
       "array([0.673742750000000, 1.10859350000000], dtype=object)"
      ]
     },
     "execution_count": 49,
     "metadata": {},
     "output_type": "execute_result"
    }
   ],
   "source": [
    "next_point = point - alpha * gradient\n",
    "next_point"
   ]
  },
  {
   "cell_type": "code",
   "execution_count": 50,
   "id": "20bbfb8f-10fc-43c8-8925-329e17a078ac",
   "metadata": {},
   "outputs": [
    {
     "data": {
      "image/png": "[encoded data removed]",
      "text/latex": [
       "$\\displaystyle 6.47413334061399$"
      ],
      "text/plain": [
       "6.47413334061399"
      ]
     },
     "execution_count": 50,
     "metadata": {},
     "output_type": "execute_result"
    }
   ],
   "source": [
    "MSE.subs({a1: next_point[0], a2: next_point[1]})"
   ]
  },
  {
   "cell_type": "code",
   "execution_count": 51,
   "id": "3b9123d8-3b12-49a5-8776-beef1b5d8b59",
   "metadata": {},
   "outputs": [],
   "source": [
    "point = numpy.array([0.673742750000000, 1.10859350000000])"
   ]
  },
  {
   "cell_type": "code",
   "execution_count": 52,
   "id": "357f2f44-2bc9-4005-be24-91021deab63a",
   "metadata": {},
   "outputs": [
    {
     "data": {
      "text/plain": [
       "array([-0.864365875000004, -3.26877025000000], dtype=object)"
      ]
     },
     "execution_count": 52,
     "metadata": {},
     "output_type": "execute_result"
    }
   ],
   "source": [
    "gradient = numpy.array([MSE_diffa1.subs({a1: point[0], a2: point[1]}), \n",
    "                    MSE_diffa2.subs({a1: point[0], a2: point[1]})])\n",
    "gradient"
   ]
  },
  {
   "cell_type": "code",
   "execution_count": 53,
   "id": "d5725ffd-7a94-42ef-b92c-43457cf87c3d",
   "metadata": {},
   "outputs": [
    {
     "data": {
      "text/plain": [
       "array([0.682386408750000, 1.14128120250000], dtype=object)"
      ]
     },
     "execution_count": 53,
     "metadata": {},
     "output_type": "execute_result"
    }
   ],
   "source": [
    "next_point = point - alpha * gradient\n",
    "next_point"
   ]
  },
  {
   "cell_type": "code",
   "execution_count": 54,
   "id": "b474fd9e-e2d3-4da3-a4bb-3c7ea1f3cb4e",
   "metadata": {},
   "outputs": [
    {
     "data": {
      "image/png": "[encoded data removed]",
      "text/latex": [
       "$\\displaystyle 6.38787584353824$"
      ],
      "text/plain": [
       "6.38787584353824"
      ]
     },
     "execution_count": 54,
     "metadata": {},
     "output_type": "execute_result"
    }
   ],
   "source": [
    "MSE.subs({a1: next_point[0], a2: next_point[1]})"
   ]
  },
  {
   "cell_type": "code",
   "execution_count": 55,
   "id": "de23195f-b9fd-4883-8037-9dfc22171486",
   "metadata": {},
   "outputs": [],
   "source": [
    "point = numpy.array([0.682386408750000, 1.14128120250000])"
   ]
  },
  {
   "cell_type": "code",
   "execution_count": 56,
   "id": "7ff9889b-e11e-4d1e-a4b8-2033e0deda01",
   "metadata": {},
   "outputs": [
    {
     "data": {
      "text/plain": [
       "array([0.0560026281250039, -1.79514570124999], dtype=object)"
      ]
     },
     "execution_count": 56,
     "metadata": {},
     "output_type": "execute_result"
    }
   ],
   "source": [
    "gradient = numpy.array([MSE_diffa1.subs({a1: point[0], a2: point[1]}), \n",
    "                    MSE_diffa2.subs({a1: point[0], a2: point[1]})])\n",
    "gradient"
   ]
  },
  {
   "cell_type": "code",
   "execution_count": 57,
   "id": "9f841b66-61a1-46ee-ad38-f967d4a8ac23",
   "metadata": {},
   "outputs": [
    {
     "data": {
      "text/plain": [
       "array([0.681826382468750, 1.15923265951250], dtype=object)"
      ]
     },
     "execution_count": 57,
     "metadata": {},
     "output_type": "execute_result"
    }
   ],
   "source": [
    "next_point = point - alpha * gradient\n",
    "next_point"
   ]
  },
  {
   "cell_type": "code",
   "execution_count": 58,
   "id": "81794e95-6e2f-4854-92e5-d94fc14e3739",
   "metadata": {},
   "outputs": [
    {
     "data": {
      "image/png": "[encoded data removed]",
      "text/latex": [
       "$\\displaystyle 6.36167480075008$"
      ],
      "text/plain": [
       "6.36167480075008"
      ]
     },
     "execution_count": 58,
     "metadata": {},
     "output_type": "execute_result"
    }
   ],
   "source": [
    "MSE.subs({a1: next_point[0], a2: next_point[1]})"
   ]
  },
  {
   "cell_type": "code",
   "execution_count": 59,
   "id": "6f91e6dc-05ae-4c8f-ac70-f41554ffaaf8",
   "metadata": {},
   "outputs": [],
   "source": [
    "point = numpy.array([0.681826382468750, 1.15923265951250])"
   ]
  },
  {
   "cell_type": "code",
   "execution_count": 60,
   "id": "662bbe45-ac98-4ebb-9d12-2fdca249ae5a",
   "metadata": {},
   "outputs": [
    {
     "data": {
      "text/plain": [
       "array([0.457965626928125, -1.10791948223125], dtype=object)"
      ]
     },
     "execution_count": 60,
     "metadata": {},
     "output_type": "execute_result"
    }
   ],
   "source": [
    "gradient = numpy.array([MSE_diffa1.subs({a1: point[0], a2: point[1]}), \n",
    "                    MSE_diffa2.subs({a1: point[0], a2: point[1]})])\n",
    "gradient"
   ]
  },
  {
   "cell_type": "code",
   "execution_count": 61,
   "id": "c5f13104-d2e7-41c4-b353-d7cafc0d8549",
   "metadata": {},
   "outputs": [
    {
     "data": {
      "text/plain": [
       "array([0.677246726199469, 1.17031185433481], dtype=object)"
      ]
     },
     "execution_count": 61,
     "metadata": {},
     "output_type": "execute_result"
    }
   ],
   "source": [
    "next_point = point - alpha * gradient\n",
    "next_point"
   ]
  },
  {
   "cell_type": "code",
   "execution_count": 62,
   "id": "e2b8e717-c8e9-43b1-bd48-578df17fe1f1",
   "metadata": {},
   "outputs": [
    {
     "data": {
      "image/png": "[encoded data removed]",
      "text/latex": [
       "$\\displaystyle 6.34873371109374$"
      ],
      "text/plain": [
       "6.34873371109374"
      ]
     },
     "execution_count": 62,
     "metadata": {},
     "output_type": "execute_result"
    }
   ],
   "source": [
    "MSE.subs({a1: next_point[0], a2: next_point[1]})"
   ]
  },
  {
   "cell_type": "code",
   "execution_count": null,
   "id": "85833c69-4da5-4366-beeb-c1c643ce80e4",
   "metadata": {},
   "outputs": [],
   "source": []
  }
 ],
 "metadata": {
  "kernelspec": {
   "display_name": "Python 3 (ipykernel)",
   "language": "python",
   "name": "python3"
  },
  "language_info": {
   "codemirror_mode": {
    "name": "ipython",
    "version": 3
   },
   "file_extension": ".py",
   "mimetype": "text/x-python",
   "name": "python",
   "nbconvert_exporter": "python",
   "pygments_lexer": "ipython3",
   "version": "3.9.7"
  }
 },
 "nbformat": 4,
 "nbformat_minor": 5
}
