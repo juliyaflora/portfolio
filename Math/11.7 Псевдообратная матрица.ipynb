{
 "cells": [
  {
   "cell_type": "code",
   "execution_count": 4,
   "id": "d5e04d91-c6d0-43e7-961f-2ea22658c44c",
   "metadata": {},
   "outputs": [],
   "source": [
    "from sympy import *\n",
    "import numpy as np"
   ]
  },
  {
   "cell_type": "markdown",
   "id": "8a80c95a-11a4-4134-9914-119db424f666",
   "metadata": {},
   "source": [
    "a) 1."
   ]
  },
  {
   "cell_type": "code",
   "execution_count": 5,
   "id": "f499e776-6636-4677-88b5-55bb164b295d",
   "metadata": {},
   "outputs": [
    {
     "data": {
      "text/latex": [
       "$\\displaystyle \\left[\\begin{matrix}2 & 3\\\\0 & 1\\end{matrix}\\right]$"
      ],
      "text/plain": [
       "Matrix([\n",
       "[2, 3],\n",
       "[0, 1]])"
      ]
     },
     "execution_count": 5,
     "metadata": {},
     "output_type": "execute_result"
    }
   ],
   "source": [
    "X=Matrix([[2,3],[0,1]])\n",
    "X"
   ]
  },
  {
   "cell_type": "code",
   "execution_count": 7,
   "id": "aa1230d7-feae-4e37-999c-3a3b4d6caf29",
   "metadata": {},
   "outputs": [
    {
     "data": {
      "text/latex": [
       "$\\displaystyle \\left[\\begin{matrix}2\\\\4\\end{matrix}\\right]$"
      ],
      "text/plain": [
       "Matrix([\n",
       "[2],\n",
       "[4]])"
      ]
     },
     "execution_count": 7,
     "metadata": {},
     "output_type": "execute_result"
    }
   ],
   "source": [
    "b = Matrix([2,4])\n",
    "b"
   ]
  },
  {
   "cell_type": "code",
   "execution_count": 8,
   "id": "cdbd45d4-d876-459c-bb7c-6c924b096728",
   "metadata": {},
   "outputs": [
    {
     "data": {
      "text/latex": [
       "$\\displaystyle \\left[\\begin{matrix}2 & 0\\\\3 & 1\\end{matrix}\\right]$"
      ],
      "text/plain": [
       "Matrix([\n",
       "[2, 0],\n",
       "[3, 1]])"
      ]
     },
     "execution_count": 8,
     "metadata": {},
     "output_type": "execute_result"
    }
   ],
   "source": [
    "X.T"
   ]
  },
  {
   "cell_type": "code",
   "execution_count": 10,
   "id": "46e59281-ae2c-45bd-85ca-6fb5a0ad3e7b",
   "metadata": {},
   "outputs": [
    {
     "data": {
      "text/latex": [
       "$\\displaystyle \\left[\\begin{matrix}4 & 6\\\\6 & 10\\end{matrix}\\right]$"
      ],
      "text/plain": [
       "Matrix([\n",
       "[4,  6],\n",
       "[6, 10]])"
      ]
     },
     "execution_count": 10,
     "metadata": {},
     "output_type": "execute_result"
    }
   ],
   "source": [
    "mul = X.T*X\n",
    "mul"
   ]
  },
  {
   "cell_type": "code",
   "execution_count": 11,
   "id": "804dda39-d19d-44cc-9304-7265a640593a",
   "metadata": {},
   "outputs": [
    {
     "data": {
      "text/latex": [
       "$\\displaystyle 4$"
      ],
      "text/plain": [
       "4"
      ]
     },
     "execution_count": 11,
     "metadata": {},
     "output_type": "execute_result"
    }
   ],
   "source": [
    "mul.det()"
   ]
  },
  {
   "cell_type": "code",
   "execution_count": 12,
   "id": "163c652b-25b5-42f8-935e-2ce20b1e989b",
   "metadata": {},
   "outputs": [
    {
     "data": {
      "text/latex": [
       "$\\displaystyle \\left[\\begin{matrix}\\frac{1}{2} & - \\frac{3}{2}\\\\0 & 1\\end{matrix}\\right]$"
      ],
      "text/plain": [
       "Matrix([\n",
       "[1/2, -3/2],\n",
       "[  0,    1]])"
      ]
     },
     "execution_count": 12,
     "metadata": {},
     "output_type": "execute_result"
    }
   ],
   "source": [
    "(X.T*X)**(-1)*X.T"
   ]
  },
  {
   "cell_type": "code",
   "execution_count": 13,
   "id": "61cf9a87-b0e5-44ae-90bb-f7f411997eb9",
   "metadata": {},
   "outputs": [
    {
     "data": {
      "text/latex": [
       "$\\displaystyle \\left[\\begin{matrix}-5\\\\4\\end{matrix}\\right]$"
      ],
      "text/plain": [
       "Matrix([\n",
       "[-5],\n",
       "[ 4]])"
      ]
     },
     "execution_count": 13,
     "metadata": {},
     "output_type": "execute_result"
    }
   ],
   "source": [
    "(X.T*X)**(-1)*X.T*b"
   ]
  },
  {
   "cell_type": "code",
   "execution_count": 22,
   "id": "7602c770-adbd-47b7-ae1b-380cf45802df",
   "metadata": {},
   "outputs": [
    {
     "name": "stdout",
     "output_type": "stream",
     "text": [
      "x1 = -5 x2= 4\n"
     ]
    }
   ],
   "source": [
    "point = (X.T*X)**(-1)*X.T*b\n",
    "print(f'x1 =',point[0], 'x2=', point[1])"
   ]
  },
  {
   "cell_type": "markdown",
   "id": "f01b71d8-1ea0-41ea-9279-e5366da277bc",
   "metadata": {},
   "source": [
    "2."
   ]
  },
  {
   "cell_type": "code",
   "execution_count": 23,
   "id": "0de803a8-d40e-467c-8f44-5211b4042f7d",
   "metadata": {},
   "outputs": [
    {
     "data": {
      "text/latex": [
       "$\\displaystyle \\left[\\begin{matrix}1 & 5\\\\0 & 3\\end{matrix}\\right]$"
      ],
      "text/plain": [
       "Matrix([\n",
       "[1, 5],\n",
       "[0, 3]])"
      ]
     },
     "execution_count": 23,
     "metadata": {},
     "output_type": "execute_result"
    }
   ],
   "source": [
    "X=Matrix([[1,5],[0,3]])\n",
    "X"
   ]
  },
  {
   "cell_type": "code",
   "execution_count": 24,
   "id": "4f9c7f4e-6bb7-45e2-94b5-9fa587853494",
   "metadata": {},
   "outputs": [
    {
     "data": {
      "text/latex": [
       "$\\displaystyle \\left[\\begin{matrix}3\\\\9\\end{matrix}\\right]$"
      ],
      "text/plain": [
       "Matrix([\n",
       "[3],\n",
       "[9]])"
      ]
     },
     "execution_count": 24,
     "metadata": {},
     "output_type": "execute_result"
    }
   ],
   "source": [
    "b = Matrix([3,9])\n",
    "b"
   ]
  },
  {
   "cell_type": "code",
   "execution_count": 25,
   "id": "8223cd06-6116-4c25-ad1a-a76b708cf76d",
   "metadata": {},
   "outputs": [
    {
     "data": {
      "text/latex": [
       "$\\displaystyle \\left[\\begin{matrix}1 & 0\\\\5 & 3\\end{matrix}\\right]$"
      ],
      "text/plain": [
       "Matrix([\n",
       "[1, 0],\n",
       "[5, 3]])"
      ]
     },
     "execution_count": 25,
     "metadata": {},
     "output_type": "execute_result"
    }
   ],
   "source": [
    "X.T"
   ]
  },
  {
   "cell_type": "code",
   "execution_count": 26,
   "id": "cc2c8d31-e41a-45f1-897b-17d2cb0580e1",
   "metadata": {},
   "outputs": [
    {
     "data": {
      "text/latex": [
       "$\\displaystyle \\left[\\begin{matrix}1 & 5\\\\5 & 34\\end{matrix}\\right]$"
      ],
      "text/plain": [
       "Matrix([\n",
       "[1,  5],\n",
       "[5, 34]])"
      ]
     },
     "execution_count": 26,
     "metadata": {},
     "output_type": "execute_result"
    }
   ],
   "source": [
    "mul = X.T*X\n",
    "mul"
   ]
  },
  {
   "cell_type": "code",
   "execution_count": 27,
   "id": "d6b506ec-c63d-4a3c-a32b-88837721a387",
   "metadata": {},
   "outputs": [
    {
     "data": {
      "text/latex": [
       "$\\displaystyle 9$"
      ],
      "text/plain": [
       "9"
      ]
     },
     "execution_count": 27,
     "metadata": {},
     "output_type": "execute_result"
    }
   ],
   "source": [
    "mul.det()"
   ]
  },
  {
   "cell_type": "code",
   "execution_count": 28,
   "id": "4a2696e3-cf86-4b2e-8086-399ed8b9ace4",
   "metadata": {},
   "outputs": [
    {
     "data": {
      "text/latex": [
       "$\\displaystyle \\left[\\begin{matrix}1 & - \\frac{5}{3}\\\\0 & \\frac{1}{3}\\end{matrix}\\right]$"
      ],
      "text/plain": [
       "Matrix([\n",
       "[1, -5/3],\n",
       "[0,  1/3]])"
      ]
     },
     "execution_count": 28,
     "metadata": {},
     "output_type": "execute_result"
    }
   ],
   "source": [
    "(X.T*X)**(-1)*X.T"
   ]
  },
  {
   "cell_type": "code",
   "execution_count": 29,
   "id": "32caaf71-0b2b-447c-a6fa-f0e53388893f",
   "metadata": {},
   "outputs": [
    {
     "data": {
      "text/latex": [
       "$\\displaystyle \\left[\\begin{matrix}-12\\\\3\\end{matrix}\\right]$"
      ],
      "text/plain": [
       "Matrix([\n",
       "[-12],\n",
       "[  3]])"
      ]
     },
     "execution_count": 29,
     "metadata": {},
     "output_type": "execute_result"
    }
   ],
   "source": [
    "(X.T*X)**(-1)*X.T*b"
   ]
  },
  {
   "cell_type": "code",
   "execution_count": 30,
   "id": "f3fa2f20-f8d4-49b7-987b-54463f05ccc0",
   "metadata": {},
   "outputs": [
    {
     "name": "stdout",
     "output_type": "stream",
     "text": [
      "x = -12 y = 3\n"
     ]
    }
   ],
   "source": [
    "point = (X.T*X)**(-1)*X.T*b\n",
    "print(f'x =',point[0], 'y =', point[1])"
   ]
  },
  {
   "cell_type": "markdown",
   "id": "3efbe683-1ebc-46c2-812e-3ad0fab85dfe",
   "metadata": {},
   "source": [
    "б) 1."
   ]
  },
  {
   "cell_type": "code",
   "execution_count": 31,
   "id": "a218cc69-1aa6-4bae-b641-af95576eaf43",
   "metadata": {},
   "outputs": [
    {
     "data": {
      "text/latex": [
       "$\\displaystyle \\left[\\begin{matrix}2 & 3 & -1\\\\0 & 1 & 1\\\\1 & -1 & 2\\end{matrix}\\right]$"
      ],
      "text/plain": [
       "Matrix([\n",
       "[2,  3, -1],\n",
       "[0,  1,  1],\n",
       "[1, -1,  2]])"
      ]
     },
     "execution_count": 31,
     "metadata": {},
     "output_type": "execute_result"
    }
   ],
   "source": [
    "X=Matrix([[2,3, -1],[0,1,1],[1,-1,2]])\n",
    "X"
   ]
  },
  {
   "cell_type": "code",
   "execution_count": 32,
   "id": "5fe22cb5-b1dc-4bde-a15c-86ed14719e44",
   "metadata": {},
   "outputs": [
    {
     "data": {
      "text/latex": [
       "$\\displaystyle \\left[\\begin{matrix}2\\\\4\\\\6\\end{matrix}\\right]$"
      ],
      "text/plain": [
       "Matrix([\n",
       "[2],\n",
       "[4],\n",
       "[6]])"
      ]
     },
     "execution_count": 32,
     "metadata": {},
     "output_type": "execute_result"
    }
   ],
   "source": [
    "b = Matrix([2,4,6])\n",
    "b"
   ]
  },
  {
   "cell_type": "code",
   "execution_count": 33,
   "id": "48ea2404-d7de-4b29-8d7b-e3b9f2253853",
   "metadata": {},
   "outputs": [
    {
     "data": {
      "text/latex": [
       "$\\displaystyle \\left[\\begin{matrix}2 & 0 & 1\\\\3 & 1 & -1\\\\-1 & 1 & 2\\end{matrix}\\right]$"
      ],
      "text/plain": [
       "Matrix([\n",
       "[ 2, 0,  1],\n",
       "[ 3, 1, -1],\n",
       "[-1, 1,  2]])"
      ]
     },
     "execution_count": 33,
     "metadata": {},
     "output_type": "execute_result"
    }
   ],
   "source": [
    "X.T"
   ]
  },
  {
   "cell_type": "code",
   "execution_count": 34,
   "id": "e458203c-7b8c-4691-885f-616538f7abbc",
   "metadata": {},
   "outputs": [
    {
     "data": {
      "text/latex": [
       "$\\displaystyle \\left[\\begin{matrix}5 & 5 & 0\\\\5 & 11 & -4\\\\0 & -4 & 6\\end{matrix}\\right]$"
      ],
      "text/plain": [
       "Matrix([\n",
       "[5,  5,  0],\n",
       "[5, 11, -4],\n",
       "[0, -4,  6]])"
      ]
     },
     "execution_count": 34,
     "metadata": {},
     "output_type": "execute_result"
    }
   ],
   "source": [
    "mul = X.T*X\n",
    "mul"
   ]
  },
  {
   "cell_type": "code",
   "execution_count": 35,
   "id": "531b0bdb-7f7a-4f96-a262-875d1d9b6e49",
   "metadata": {},
   "outputs": [
    {
     "data": {
      "text/latex": [
       "$\\displaystyle 100$"
      ],
      "text/plain": [
       "100"
      ]
     },
     "execution_count": 35,
     "metadata": {},
     "output_type": "execute_result"
    }
   ],
   "source": [
    "mul.det()"
   ]
  },
  {
   "cell_type": "code",
   "execution_count": 36,
   "id": "ab443917-a302-4aeb-b4cf-79022cd86de4",
   "metadata": {},
   "outputs": [
    {
     "data": {
      "text/latex": [
       "$\\displaystyle \\left[\\begin{matrix}\\frac{3}{10} & - \\frac{1}{2} & \\frac{2}{5}\\\\\\frac{1}{10} & \\frac{1}{2} & - \\frac{1}{5}\\\\- \\frac{1}{10} & \\frac{1}{2} & \\frac{1}{5}\\end{matrix}\\right]$"
      ],
      "text/plain": [
       "Matrix([\n",
       "[ 3/10, -1/2,  2/5],\n",
       "[ 1/10,  1/2, -1/5],\n",
       "[-1/10,  1/2,  1/5]])"
      ]
     },
     "execution_count": 36,
     "metadata": {},
     "output_type": "execute_result"
    }
   ],
   "source": [
    "(X.T*X)**(-1)*X.T"
   ]
  },
  {
   "cell_type": "code",
   "execution_count": 37,
   "id": "d566b4cc-05b9-4ad6-a2e9-3c7f8dfc1572",
   "metadata": {},
   "outputs": [
    {
     "data": {
      "text/latex": [
       "$\\displaystyle \\left[\\begin{matrix}1\\\\1\\\\3\\end{matrix}\\right]$"
      ],
      "text/plain": [
       "Matrix([\n",
       "[1],\n",
       "[1],\n",
       "[3]])"
      ]
     },
     "execution_count": 37,
     "metadata": {},
     "output_type": "execute_result"
    }
   ],
   "source": [
    "(X.T*X)**(-1)*X.T*b"
   ]
  },
  {
   "cell_type": "code",
   "execution_count": 38,
   "id": "9bfe4b65-fb2d-4983-81e7-82a335547813",
   "metadata": {},
   "outputs": [
    {
     "name": "stdout",
     "output_type": "stream",
     "text": [
      "x = 1 y = 1 z = 3\n"
     ]
    }
   ],
   "source": [
    "point = (X.T*X)**(-1)*X.T*b\n",
    "print(f'x =',point[0], 'y =', point[1], 'z =', point[2])"
   ]
  },
  {
   "cell_type": "markdown",
   "id": "24b022b9-181b-4f24-8f70-725e98376583",
   "metadata": {},
   "source": [
    "2."
   ]
  },
  {
   "cell_type": "code",
   "execution_count": 39,
   "id": "ec51622c-e140-46f1-965a-1e24f748b7e0",
   "metadata": {},
   "outputs": [
    {
     "data": {
      "text/latex": [
       "$\\displaystyle \\left[\\begin{matrix}1 & 5 & -2\\\\0 & 3 & 1\\\\-4 & -6 & 2\\end{matrix}\\right]$"
      ],
      "text/plain": [
       "Matrix([\n",
       "[ 1,  5, -2],\n",
       "[ 0,  3,  1],\n",
       "[-4, -6,  2]])"
      ]
     },
     "execution_count": 39,
     "metadata": {},
     "output_type": "execute_result"
    }
   ],
   "source": [
    "X=Matrix([[1,5,-2],[0,3,1],[-4,-6,2]])\n",
    "X"
   ]
  },
  {
   "cell_type": "code",
   "execution_count": 40,
   "id": "11c4a92e-e53a-4b81-b841-bfb4f61de541",
   "metadata": {},
   "outputs": [
    {
     "data": {
      "text/latex": [
       "$\\displaystyle \\left[\\begin{matrix}8\\\\16\\\\32\\end{matrix}\\right]$"
      ],
      "text/plain": [
       "Matrix([\n",
       "[ 8],\n",
       "[16],\n",
       "[32]])"
      ]
     },
     "execution_count": 40,
     "metadata": {},
     "output_type": "execute_result"
    }
   ],
   "source": [
    "b = Matrix([8,16,32])\n",
    "b"
   ]
  },
  {
   "cell_type": "code",
   "execution_count": 41,
   "id": "490cfa5d-41e6-4396-b846-c8603c8823b0",
   "metadata": {},
   "outputs": [
    {
     "data": {
      "text/latex": [
       "$\\displaystyle \\left[\\begin{matrix}1 & 0 & -4\\\\5 & 3 & -6\\\\-2 & 1 & 2\\end{matrix}\\right]$"
      ],
      "text/plain": [
       "Matrix([\n",
       "[ 1, 0, -4],\n",
       "[ 5, 3, -6],\n",
       "[-2, 1,  2]])"
      ]
     },
     "execution_count": 41,
     "metadata": {},
     "output_type": "execute_result"
    }
   ],
   "source": [
    "X.T"
   ]
  },
  {
   "cell_type": "code",
   "execution_count": 42,
   "id": "813b954c-5348-4d61-9c59-c43740724c8c",
   "metadata": {},
   "outputs": [
    {
     "data": {
      "text/latex": [
       "$\\displaystyle \\left[\\begin{matrix}17 & 29 & -10\\\\29 & 70 & -19\\\\-10 & -19 & 9\\end{matrix}\\right]$"
      ],
      "text/plain": [
       "Matrix([\n",
       "[ 17,  29, -10],\n",
       "[ 29,  70, -19],\n",
       "[-10, -19,   9]])"
      ]
     },
     "execution_count": 42,
     "metadata": {},
     "output_type": "execute_result"
    }
   ],
   "source": [
    "mul = X.T*X\n",
    "mul"
   ]
  },
  {
   "cell_type": "code",
   "execution_count": 43,
   "id": "7886ed9b-1838-4b36-bd5e-177a2731b1d9",
   "metadata": {},
   "outputs": [
    {
     "data": {
      "text/latex": [
       "$\\displaystyle 1024$"
      ],
      "text/plain": [
       "1024"
      ]
     },
     "execution_count": 43,
     "metadata": {},
     "output_type": "execute_result"
    }
   ],
   "source": [
    "mul.det()"
   ]
  },
  {
   "cell_type": "code",
   "execution_count": 44,
   "id": "b57819c9-9d68-456d-b58e-7b29bf3a008f",
   "metadata": {},
   "outputs": [
    {
     "data": {
      "text/latex": [
       "$\\displaystyle \\left[\\begin{matrix}- \\frac{3}{8} & - \\frac{1}{16} & - \\frac{11}{32}\\\\\\frac{1}{8} & \\frac{3}{16} & \\frac{1}{32}\\\\- \\frac{3}{8} & \\frac{7}{16} & - \\frac{3}{32}\\end{matrix}\\right]$"
      ],
      "text/plain": [
       "Matrix([\n",
       "[-3/8, -1/16, -11/32],\n",
       "[ 1/8,  3/16,   1/32],\n",
       "[-3/8,  7/16,  -3/32]])"
      ]
     },
     "execution_count": 44,
     "metadata": {},
     "output_type": "execute_result"
    }
   ],
   "source": [
    "(X.T*X)**(-1)*X.T"
   ]
  },
  {
   "cell_type": "code",
   "execution_count": 45,
   "id": "fb93e00a-b1b0-4c9b-b7ac-7bdc0b38d691",
   "metadata": {},
   "outputs": [
    {
     "data": {
      "text/latex": [
       "$\\displaystyle \\left[\\begin{matrix}-15\\\\5\\\\1\\end{matrix}\\right]$"
      ],
      "text/plain": [
       "Matrix([\n",
       "[-15],\n",
       "[  5],\n",
       "[  1]])"
      ]
     },
     "execution_count": 45,
     "metadata": {},
     "output_type": "execute_result"
    }
   ],
   "source": [
    "(X.T*X)**(-1)*X.T*b"
   ]
  },
  {
   "cell_type": "code",
   "execution_count": 46,
   "id": "bd589f51-3e7b-48f9-a3e0-29a7fff82686",
   "metadata": {},
   "outputs": [
    {
     "name": "stdout",
     "output_type": "stream",
     "text": [
      "x = -15 y = 5 z = 1\n"
     ]
    }
   ],
   "source": [
    "point = (X.T*X)**(-1)*X.T*b\n",
    "print(f'x =',point[0], 'y =', point[1], 'z =', point[2])"
   ]
  },
  {
   "cell_type": "markdown",
   "id": "2a49893e-4b68-42fc-8d6f-c586a0c3ad64",
   "metadata": {},
   "source": [
    "Задача 2."
   ]
  },
  {
   "cell_type": "code",
   "execution_count": 48,
   "id": "0c4c7379-85d9-4341-b297-68c7e1ac9750",
   "metadata": {},
   "outputs": [],
   "source": [
    "a1, a2 = symbols('a1, a2')"
   ]
  },
  {
   "cell_type": "code",
   "execution_count": 49,
   "id": "2f4888ce-0639-4c7b-aac6-920f41899c01",
   "metadata": {},
   "outputs": [],
   "source": [
    "MSE = 1/4*((a1*1+a2*2-5)**2+\\\n",
    "           (a1*5+a2*3-6)**2+\\\n",
    "           (a1*2+a2*4-10)**2+\\\n",
    "           (a1*3+a2*7-8)**2)"
   ]
  },
  {
   "cell_type": "code",
   "execution_count": 50,
   "id": "2aeefbaa-b7be-4129-8c3e-1d11e850ee4d",
   "metadata": {},
   "outputs": [
    {
     "data": {
      "text/latex": [
       "$\\displaystyle 8.560825$"
      ],
      "text/plain": [
       "8.56082500000000"
      ]
     },
     "execution_count": 50,
     "metadata": {},
     "output_type": "execute_result"
    }
   ],
   "source": [
    "MSE.subs({a1:0.57, a2: 0.91})"
   ]
  },
  {
   "cell_type": "code",
   "execution_count": 51,
   "id": "67ffe7e2-a8e7-41c6-bba8-a6e9485a2068",
   "metadata": {},
   "outputs": [
    {
     "data": {
      "text/latex": [
       "$\\displaystyle \\left[\\begin{matrix}1 & 2\\\\5 & 3\\\\2 & 4\\\\3 & 7\\end{matrix}\\right]$"
      ],
      "text/plain": [
       "Matrix([\n",
       "[1, 2],\n",
       "[5, 3],\n",
       "[2, 4],\n",
       "[3, 7]])"
      ]
     },
     "execution_count": 51,
     "metadata": {},
     "output_type": "execute_result"
    }
   ],
   "source": [
    "X=Matrix([[1,2],[5,3],[2,4],[3,7]])\n",
    "X"
   ]
  },
  {
   "cell_type": "code",
   "execution_count": 52,
   "id": "7ab7ce55-012b-49f4-aef0-bc84bfcf9660",
   "metadata": {},
   "outputs": [
    {
     "data": {
      "text/latex": [
       "$\\displaystyle \\left[\\begin{matrix}5\\\\6\\\\10\\\\8\\end{matrix}\\right]$"
      ],
      "text/plain": [
       "Matrix([\n",
       "[ 5],\n",
       "[ 6],\n",
       "[10],\n",
       "[ 8]])"
      ]
     },
     "execution_count": 52,
     "metadata": {},
     "output_type": "execute_result"
    }
   ],
   "source": [
    "b = Matrix([5,6,10,8])\n",
    "b"
   ]
  },
  {
   "cell_type": "code",
   "execution_count": 53,
   "id": "b7c5bec1-b6fc-464f-bebd-2eee709dea6b",
   "metadata": {},
   "outputs": [
    {
     "data": {
      "text/latex": [
       "$\\displaystyle \\left[\\begin{matrix}1 & 5 & 2 & 3\\\\2 & 3 & 4 & 7\\end{matrix}\\right]$"
      ],
      "text/plain": [
       "Matrix([\n",
       "[1, 5, 2, 3],\n",
       "[2, 3, 4, 7]])"
      ]
     },
     "execution_count": 53,
     "metadata": {},
     "output_type": "execute_result"
    }
   ],
   "source": [
    "X.T"
   ]
  },
  {
   "cell_type": "code",
   "execution_count": 54,
   "id": "f76c0796-3167-40d1-8939-8588331ad493",
   "metadata": {},
   "outputs": [
    {
     "data": {
      "text/latex": [
       "$\\displaystyle \\left[\\begin{matrix}39 & 46\\\\46 & 78\\end{matrix}\\right]$"
      ],
      "text/plain": [
       "Matrix([\n",
       "[39, 46],\n",
       "[46, 78]])"
      ]
     },
     "execution_count": 54,
     "metadata": {},
     "output_type": "execute_result"
    }
   ],
   "source": [
    "mul = X.T*X\n",
    "mul"
   ]
  },
  {
   "cell_type": "code",
   "execution_count": 55,
   "id": "8bf02fa2-2d08-45a4-9ad8-87a13bb538d8",
   "metadata": {},
   "outputs": [
    {
     "data": {
      "text/latex": [
       "$\\displaystyle 926$"
      ],
      "text/plain": [
       "926"
      ]
     },
     "execution_count": 55,
     "metadata": {},
     "output_type": "execute_result"
    }
   ],
   "source": [
    "mul.det()"
   ]
  },
  {
   "cell_type": "code",
   "execution_count": 56,
   "id": "c7910ec5-7b6f-4b56-8927-21fa238b2f52",
   "metadata": {},
   "outputs": [
    {
     "data": {
      "text/latex": [
       "$\\displaystyle \\left[\\begin{matrix}- \\frac{7}{463} & \\frac{126}{463} & - \\frac{14}{463} & - \\frac{44}{463}\\\\\\frac{16}{463} & - \\frac{113}{926} & \\frac{32}{463} & \\frac{135}{926}\\end{matrix}\\right]$"
      ],
      "text/plain": [
       "Matrix([\n",
       "[-7/463,  126/463, -14/463, -44/463],\n",
       "[16/463, -113/926,  32/463, 135/926]])"
      ]
     },
     "execution_count": 56,
     "metadata": {},
     "output_type": "execute_result"
    }
   ],
   "source": [
    "(X.T*X)**(-1)*X.T"
   ]
  },
  {
   "cell_type": "code",
   "execution_count": 57,
   "id": "b893e87d-1ade-4f87-b79d-71ef9cfa97ce",
   "metadata": {},
   "outputs": [
    {
     "data": {
      "text/latex": [
       "$\\displaystyle \\left[\\begin{matrix}\\frac{229}{463}\\\\\\frac{601}{463}\\end{matrix}\\right]$"
      ],
      "text/plain": [
       "Matrix([\n",
       "[229/463],\n",
       "[601/463]])"
      ]
     },
     "execution_count": 57,
     "metadata": {},
     "output_type": "execute_result"
    }
   ],
   "source": [
    "(X.T*X)**(-1)*X.T*b"
   ]
  },
  {
   "cell_type": "code",
   "execution_count": 59,
   "id": "18691230-906f-4106-9510-862a92a14ac3",
   "metadata": {},
   "outputs": [
    {
     "data": {
      "text/latex": [
       "$\\displaystyle 6.24190064794816$"
      ],
      "text/plain": [
       "6.24190064794816"
      ]
     },
     "execution_count": 59,
     "metadata": {},
     "output_type": "execute_result"
    }
   ],
   "source": [
    "next_point = (X.T*X)**(-1)*X.T*b\n",
    "MSE.subs({a1: next_point[0], a2: next_point[1]})"
   ]
  },
  {
   "cell_type": "code",
   "execution_count": null,
   "id": "67db785f-7f70-4816-a684-d806b5d584b3",
   "metadata": {},
   "outputs": [],
   "source": []
  }
 ],
 "metadata": {
  "kernelspec": {
   "display_name": "Python 3 (ipykernel)",
   "language": "python",
   "name": "python3"
  },
  "language_info": {
   "codemirror_mode": {
    "name": "ipython",
    "version": 3
   },
   "file_extension": ".py",
   "mimetype": "text/x-python",
   "name": "python",
   "nbconvert_exporter": "python",
   "pygments_lexer": "ipython3",
   "version": "3.9.7"
  }
 },
 "nbformat": 4,
 "nbformat_minor": 5
}
